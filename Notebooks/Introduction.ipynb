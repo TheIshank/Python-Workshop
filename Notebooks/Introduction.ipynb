{
 "cells": [
  {
   "cell_type": "code",
   "execution_count": 28,
   "metadata": {
    "slideshow": {
     "slide_type": "skip"
    }
   },
   "outputs": [],
   "source": [
    "from IPython.display import HTML, display\n",
    "from pprint import pprint"
   ]
  },
  {
   "cell_type": "code",
   "execution_count": null,
   "metadata": {},
   "outputs": [],
   "source": []
  },
  {
   "cell_type": "markdown",
   "metadata": {
    "slideshow": {
     "slide_type": "slide"
    }
   },
   "source": [
    "# Introduction to Python\n",
    "\n",
    "<img src=\"Assets/python_logo.png\" height=100 width=100>\n",
    "\n",
    "Ishank Saxena&emsp;Umang Shah&emsp;Krishna Agarwal&emsp;R Arun Prasath\n"
   ]
  },
  {
   "cell_type": "markdown",
   "metadata": {
    "slideshow": {
     "slide_type": "slide"
    }
   },
   "source": [
    "<center><img src=\"Assets/python_vs_other.jpg\" width=800></center>"
   ]
  },
  {
   "cell_type": "markdown",
   "metadata": {
    "slideshow": {
     "slide_type": "slide"
    }
   },
   "source": [
    "# Python is a powerful language 💪🏼"
   ]
  },
  {
   "cell_type": "markdown",
   "metadata": {
    "slideshow": {
     "slide_type": "slide"
    }
   },
   "source": [
    "## <b>It can be used for:</b>\n",
    "<ul>\n",
    "    <li>Web Development</li>\n",
    "    <li>DevOps</li>\n",
    "    <li>Data Analytics and Manipulation</li>\n",
    "    <li>AI and ML Pipelines</li>\n",
    "    <li>Text, Sound and Image Analysis</li>\n",
    "    <li>Cyberforensics and Cybersecurity</li>\n",
    "    <li>Mathematical Computation</li>\n",
    "    <li>Robotics and Automation</li>\n",
    "</ul>"
   ]
  },
  {
   "cell_type": "markdown",
   "metadata": {
    "slideshow": {
     "slide_type": "slide"
    }
   },
   "source": [
    "## Let's Dive In 🏊🏼‍♂️"
   ]
  },
  {
   "cell_type": "markdown",
   "metadata": {
    "slideshow": {
     "slide_type": "slide"
    }
   },
   "source": [
    "## Chapter 1: Installation"
   ]
  },
  {
   "cell_type": "markdown",
   "metadata": {
    "slideshow": {
     "slide_type": "subslide"
    }
   },
   "source": [
    "<ul>\n",
    "    <li>Install Python 3.6</li>\n",
    "    <li>Install an IDE</li>\n",
    "</ul>"
   ]
  },
  {
   "cell_type": "markdown",
   "metadata": {
    "slideshow": {
     "slide_type": "slide"
    }
   },
   "source": [
    "<img src=\"Assets/python_datatypes.png\" height=500>"
   ]
  },
  {
   "cell_type": "markdown",
   "metadata": {
    "slideshow": {
     "slide_type": "slide"
    }
   },
   "source": [
    "## What are some good IDEs for Python?"
   ]
  },
  {
   "cell_type": "markdown",
   "metadata": {
    "slideshow": {
     "slide_type": "slide"
    },
    "tags": [
     "hide_input"
    ]
   },
   "source": [
    "<span><img src=\"Assets/vscode_logo.png\" width=100 height=100><img src=\"Assets/PyCharm_Logo.png\" width=100 height=100></span>\n",
    "<img src=\"Assets/jupyter_logo.png\" width=100 height=100><img src=\"Assets/spyder_logo.png\" width=100 height=100>"
   ]
  },
  {
   "cell_type": "markdown",
   "metadata": {
    "slideshow": {
     "slide_type": "slide"
    }
   },
   "source": [
    "## Chapter 2: Virtual Environments"
   ]
  },
  {
   "cell_type": "markdown",
   "metadata": {
    "slideshow": {
     "slide_type": "subslide"
    }
   },
   "source": [
    "<img src=\"Assets/virtualenv.jpg\" height=500>"
   ]
  },
  {
   "cell_type": "markdown",
   "metadata": {
    "slideshow": {
     "slide_type": "subslide"
    }
   },
   "source": [
    "### Virtual Environments are helpful in following ways:\n",
    "<ul>\n",
    "    <li>They help in separating dependencies of different projects</li>\n",
    "    <li>Different versions of python interpreters can be used for different projects</li>\n",
    "    <li>Easier to reproduce on production machines</li>\n",
    "</ul>\n",
    "\n",
    "<img src=\"Assets/python_virtualenv.png\" height=300 width=300>\n",
    "\n",
    "[Read More](https://realpython.com/python-virtual-environments-a-primer)"
   ]
  },
  {
   "cell_type": "markdown",
   "metadata": {
    "slideshow": {
     "slide_type": "subslide"
    }
   },
   "source": [
    "### Creating and activating a virtual environment:\n",
    "\n",
    "```bash\n",
    "virtualenv environment_name\n",
    "```\n",
    "\n",
    "```bash\n",
    "source environment_name/bin/activate\n",
    "```"
   ]
  },
  {
   "cell_type": "markdown",
   "metadata": {
    "slideshow": {
     "slide_type": "subslide"
    }
   },
   "source": [
    "<img src=\"Assets/Python_version_meme.jfif\">"
   ]
  },
  {
   "cell_type": "markdown",
   "metadata": {
    "slideshow": {
     "slide_type": "slide"
    }
   },
   "source": [
    "# Chapter 3: Python Packages"
   ]
  },
  {
   "cell_type": "markdown",
   "metadata": {
    "slideshow": {
     "slide_type": "subslide"
    }
   },
   "source": [
    "Vanilla Python\n",
    "<img src=\"Assets/charmander.jpg\" height=300 width=300>"
   ]
  },
  {
   "cell_type": "markdown",
   "metadata": {
    "slideshow": {
     "slide_type": "subslide"
    }
   },
   "source": [
    "Python with packages\n",
    "<img src=\"Assets/Charizard.png\" height=500>"
   ]
  },
  {
   "cell_type": "markdown",
   "metadata": {
    "slideshow": {
     "slide_type": "subslide"
    }
   },
   "source": [
    "<b>Installing Packages:</b>\n",
    "\n",
    "```bash\n",
    "bash>pip install package_name\n",
    "```\n",
    "\n",
    "<b>Importing Packages:</b>\n",
    "```python\n",
    "import package_name as pn\n",
    "```\n",
    "\n",
    "<b>Freezing Packages:</b>\n",
    "\n",
    "```bash\n",
    "bash>pip freeze > requirements.txt\n",
    "```\n",
    "\n",
    "\n",
    "Pip: Pip Installs Packages [Read More](https://realpython.com/what-is-pip/)"
   ]
  },
  {
   "cell_type": "markdown",
   "metadata": {
    "slideshow": {
     "slide_type": "slide"
    }
   },
   "source": [
    "# Chapter 3: Syntax"
   ]
  },
  {
   "cell_type": "markdown",
   "metadata": {
    "slideshow": {
     "slide_type": "subslide"
    }
   },
   "source": [
    "<img src=\"Assets/ctopy.jpg\" height=500 width=500>"
   ]
  },
  {
   "cell_type": "markdown",
   "metadata": {
    "slideshow": {
     "slide_type": "subslide"
    }
   },
   "source": [
    "## Salient Features:\n",
    "<ul>\n",
    "    <li>No statement delimiters</li>\n",
    "    <li>Indentation governed code blocks</li>\n",
    "    <li>No Data Types</li>\n",
    "</ul>"
   ]
  },
  {
   "cell_type": "markdown",
   "metadata": {
    "slideshow": {
     "slide_type": "subslide"
    }
   },
   "source": [
    "<img src=\"Assets/object.jpeg\" height=500 width=500>"
   ]
  },
  {
   "cell_type": "code",
   "execution_count": 24,
   "metadata": {
    "slideshow": {
     "slide_type": "subslide"
    }
   },
   "outputs": [
    {
     "name": "stdout",
     "output_type": "stream",
     "text": [
      "10\n",
      "12.5\n",
      "Hakka Noodles\n"
     ]
    }
   ],
   "source": [
    "#The same variable can hold values of different data types\n",
    "some_variable = 10\n",
    "print(some_variable)\n",
    "some_variable = 12.5\n",
    "print(some_variable)\n",
    "some_variable = \"Hakka Noodles\"\n",
    "print(some_variable)"
   ]
  },
  {
   "cell_type": "markdown",
   "metadata": {
    "slideshow": {
     "slide_type": "slide"
    }
   },
   "source": [
    "## In-built Data Structures\n",
    "<ul>\n",
    "    <li>List/Array</li>\n",
    "    <li>Dictionary/Map</li>\n",
    "    <li>Set</li>\n",
    "</ul>"
   ]
  },
  {
   "cell_type": "code",
   "execution_count": 41,
   "metadata": {
    "slideshow": {
     "slide_type": "subslide"
    }
   },
   "outputs": [
    {
     "name": "stdout",
     "output_type": "stream",
     "text": [
      "[1, 2, 3, 'Cat', 'Mouse']\n",
      "[[1, 2, 3, 'Cat', 'Mouse'], [1, 2, 3, 'Cat', 'Mouse']]\n",
      "\n",
      "Multi-Dimensional List:\n",
      "\n",
      "[[1, 2, 3, 'Cat', 'Mouse'],\n",
      " [[1, 2, 3, 'Cat', 'Mouse'], [1, 2, 3, 'Cat', 'Mouse']],\n",
      " [[[1, 2, 3, 'Cat', 'Mouse'], [1, 2, 3, 'Cat', 'Mouse']],\n",
      "  [1, 2, 3, 'Cat', 'Mouse']]]\n",
      "\n",
      "Indexing:\n",
      "\n",
      "Cat Mouse Mouse\n"
     ]
    }
   ],
   "source": [
    "#List\n",
    "\n",
    "one_dimensional = [1,2,3,\"Cat\",\"Mouse\"]\n",
    "print(one_dimensional)\n",
    "two_dimensional = [one_dimensional, one_dimensional]\n",
    "print(two_dimensional)\n",
    "multi_dimensional = [one_dimensional, two_dimensional, [two_dimensional, one_dimensional]]\n",
    "print(\"\\nMulti-Dimensional List:\\n\")\n",
    "pprint(multi_dimensional)\n",
    "\n",
    "print(\"\\nIndexing:\\n\")\n",
    "print(one_dimensional[3], two_dimensional[0][4], multi_dimensional[1][1][-1])"
   ]
  },
  {
   "cell_type": "code",
   "execution_count": 59,
   "metadata": {
    "slideshow": {
     "slide_type": "subslide"
    }
   },
   "outputs": [
    {
     "name": "stdout",
     "output_type": "stream",
     "text": [
      "[2, 3, 'Cat']\n",
      "[2, 3]\n",
      "['Mouse', 'Cat', 3]\n"
     ]
    }
   ],
   "source": [
    "#List Slicing\n",
    "\n",
    "print(one_dimensional[1:4])\n",
    "print(one_dimensional[1:-2])\n",
    "print(one_dimensional[4:1:-1])\n",
    "\n",
    "#[Read More](https://developers.google.com/edu/python/lists)\n",
    "#[Read More](https://www.geeksforgeeks.org/python-list/)"
   ]
  },
  {
   "cell_type": "code",
   "execution_count": 58,
   "metadata": {
    "slideshow": {
     "slide_type": "subslide"
    }
   },
   "outputs": [
    {
     "name": "stdout",
     "output_type": "stream",
     "text": [
      "PG:  Post Graduation - Harvard\n",
      "Experience:  Manager\n"
     ]
    }
   ],
   "source": [
    "#Dictionary\n",
    "\n",
    "jane_dict = {\n",
    "    \"Name\":\"Jane Doe\",\n",
    "    \"Father's Name\":\"John Doe\",\n",
    "    \"Age\":25,\n",
    "    \"Education\":[\"Post Graduation - Harvard\", \"Graduation - Oxford\"],\n",
    "    \"Experience\":{\n",
    "        \"Optum\":\"Senior Developer\",\n",
    "        \"UHC\":\"Manager\"\n",
    "    }\n",
    "}\n",
    "\n",
    "print(\"PG: \",jane_dict[\"Education\"][0])\n",
    "print(\"Experience: \",jane_dict[\"Experience\"][\"UHC\"])"
   ]
  },
  {
   "cell_type": "code",
   "execution_count": 63,
   "metadata": {
    "slideshow": {
     "slide_type": "subslide"
    }
   },
   "outputs": [
    {
     "name": "stdout",
     "output_type": "stream",
     "text": [
      "My Set: {1, 2, 3, 4}\n",
      "Other Set: {1, 2, 3, 4, 5}\n"
     ]
    }
   ],
   "source": [
    "#Set\n",
    "my_set = {1,2,3,4,4}\n",
    "print(\"My Set:\",my_set)\n",
    "\n",
    "my_list = [1,2,3,4,5,3,1,2]\n",
    "other_set = set(my_list)\n",
    "print(\"Other Set:\",other_set)"
   ]
  }
 ],
 "metadata": {
  "celltoolbar": "Slideshow",
  "kernelspec": {
   "display_name": "Python 3",
   "language": "python",
   "name": "python3"
  },
  "language_info": {
   "codemirror_mode": {
    "name": "ipython",
    "version": 3
   },
   "file_extension": ".py",
   "mimetype": "text/x-python",
   "name": "python",
   "nbconvert_exporter": "python",
   "pygments_lexer": "ipython3",
   "version": "3.7.5"
  }
 },
 "nbformat": 4,
 "nbformat_minor": 4
}
