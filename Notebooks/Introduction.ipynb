{
 "cells": [
  {
   "cell_type": "code",
   "execution_count": 18,
   "metadata": {
    "slideshow": {
     "slide_type": "skip"
    }
   },
   "outputs": [],
   "source": [
    "from IPython.display import HTML, display"
   ]
  },
  {
   "cell_type": "code",
   "execution_count": null,
   "metadata": {},
   "outputs": [],
   "source": []
  },
  {
   "cell_type": "markdown",
   "metadata": {
    "slideshow": {
     "slide_type": "slide"
    }
   },
   "source": [
    "# Introduction to Python\n",
    "\n",
    "<img src=\"Assets/python_logo.png\" height=100 width=100>\n",
    "\n",
    "Ishank Saxena&emsp;Umang Shah&emsp;Krishna Agarwal&emsp;R Arun Prasath\n"
   ]
  },
  {
   "cell_type": "markdown",
   "metadata": {
    "slideshow": {
     "slide_type": "slide"
    }
   },
   "source": [
    "<center><img src=\"Assets/python_vs_other.jpg\" width=800></center>"
   ]
  },
  {
   "cell_type": "markdown",
   "metadata": {
    "slideshow": {
     "slide_type": "slide"
    }
   },
   "source": [
    "# Python is a powerful language 💪🏼"
   ]
  },
  {
   "cell_type": "markdown",
   "metadata": {
    "slideshow": {
     "slide_type": "slide"
    }
   },
   "source": [
    "## <b>It can be used for:</b>\n",
    "<ul>\n",
    "    <li>Web Development</li>\n",
    "    <li>DevOps</li>\n",
    "    <li>Data Analytics and Manipulation</li>\n",
    "    <li>AI and ML Pipelines</li>\n",
    "    <li>Text, Sound and Image Analysis</li>\n",
    "    <li>Cyberforensics and Cybersecurity</li>\n",
    "    <li>Mathematical Computation</li>\n",
    "    <li>Robotics and Automation</li>\n",
    "</ul>"
   ]
  },
  {
   "cell_type": "markdown",
   "metadata": {
    "slideshow": {
     "slide_type": "slide"
    }
   },
   "source": [
    "## Let's Dive In 🏊🏼‍♂️"
   ]
  },
  {
   "cell_type": "markdown",
   "metadata": {
    "slideshow": {
     "slide_type": "slide"
    }
   },
   "source": [
    "## Chapter 1: Installation"
   ]
  },
  {
   "cell_type": "markdown",
   "metadata": {
    "slideshow": {
     "slide_type": "subslide"
    }
   },
   "source": [
    "<ul>\n",
    "    <li>Install Python 3.6</li>\n",
    "    <li>Install an IDE</li>\n",
    "</ul>"
   ]
  },
  {
   "cell_type": "markdown",
   "metadata": {
    "slideshow": {
     "slide_type": "slide"
    }
   },
   "source": [
    "<img src=\"Assets/python_datatypes.png\" height=500>"
   ]
  },
  {
   "cell_type": "markdown",
   "metadata": {
    "slideshow": {
     "slide_type": "slide"
    }
   },
   "source": [
    "## What are some good IDEs for Python?"
   ]
  },
  {
   "cell_type": "markdown",
   "metadata": {
    "slideshow": {
     "slide_type": "slide"
    },
    "tags": [
     "hide_input"
    ]
   },
   "source": [
    "<span><img src=\"Assets/vscode_logo.png\" width=100 height=100><img src=\"Assets/PyCharm_Logo.png\" width=100 height=100></span>\n",
    "<img src=\"Assets/jupyter_logo.png\" width=100 height=100><img src=\"Assets/spyder_logo.png\" width=100 height=100>"
   ]
  },
  {
   "cell_type": "markdown",
   "metadata": {
    "slideshow": {
     "slide_type": "slide"
    }
   },
   "source": [
    "## Chapter 2: Virtual Environments"
   ]
  },
  {
   "cell_type": "markdown",
   "metadata": {
    "slideshow": {
     "slide_type": "subslide"
    }
   },
   "source": [
    "<img src=\"Assets/virtualenv.jpg\" height=500>"
   ]
  },
  {
   "cell_type": "markdown",
   "metadata": {
    "slideshow": {
     "slide_type": "subslide"
    }
   },
   "source": [
    "### Virtual Environments are helpful in following ways:\n",
    "<ul>\n",
    "    <li>They help in separating dependencies of different projects</li>\n",
    "    <li>Different versions of python interpreters can be used for different projects</li>\n",
    "    <li>Easier to reproduce on production machines</li>\n",
    "</ul>\n",
    "\n",
    "[Read More](https://realpython.com/python-virtual-environments-a-primer)"
   ]
  },
  {
   "cell_type": "markdown",
   "metadata": {
    "slideshow": {
     "slide_type": "subslide"
    }
   },
   "source": [
    "### Creating and activating a virtual environment:\n",
    "\n",
    "```bash\n",
    "virtualenv environment_name\n",
    "```\n",
    "\n",
    "```bash\n",
    "source environment_name/bin/activate\n",
    "```"
   ]
  },
  {
   "cell_type": "code",
   "execution_count": null,
   "metadata": {
    "slideshow": {
     "slide_type": "slide"
    }
   },
   "outputs": [],
   "source": []
  }
 ],
 "metadata": {
  "celltoolbar": "Slideshow",
  "kernelspec": {
   "display_name": "Python 3",
   "language": "python",
   "name": "python3"
  },
  "language_info": {
   "codemirror_mode": {
    "name": "ipython",
    "version": 3
   },
   "file_extension": ".py",
   "mimetype": "text/x-python",
   "name": "python",
   "nbconvert_exporter": "python",
   "pygments_lexer": "ipython3",
   "version": "3.7.5"
  }
 },
 "nbformat": 4,
 "nbformat_minor": 4
}
