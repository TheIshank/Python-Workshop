{
 "cells": [
  {
   "cell_type": "markdown",
   "metadata": {
    "slideshow": {
     "slide_type": "slide"
    }
   },
   "source": [
    "# Remember?\n",
    "\n",
    "Vanilla Python\n",
    "<img src=\"Assets/charmander.jpg\" height=300 width=300>\n",
    "\n",
    "Python with packages\n",
    "<img src=\"Assets/Charizard.png\" height=500>"
   ]
  },
  {
   "cell_type": "markdown",
   "metadata": {
    "slideshow": {
     "slide_type": "slide"
    }
   },
   "source": [
    "# So let's get started"
   ]
  },
  {
   "cell_type": "markdown",
   "metadata": {
    "slideshow": {
     "slide_type": "slide"
    }
   },
   "source": [
    "# But wait,\n",
    "\n",
    "<img src=\"Assets/same_page.png\" height=500 width=1000>"
   ]
  },
  {
   "cell_type": "markdown",
   "metadata": {
    "slideshow": {
     "slide_type": "slide"
    }
   },
   "source": [
    "# OS"
   ]
  },
  {
   "cell_type": "code",
   "execution_count": 28,
   "metadata": {},
   "outputs": [
    {
     "name": "stdout",
     "output_type": "stream",
     "text": [
      "posix\n",
      "---------------------------\n",
      "/Users/kagarwa9/Documents/GitHub/Python-Workshop/Notebooks\n",
      "---------------------------\n",
      "/Users/kagarwa9/Documents/GitHub/Python-Workshop/Notebooks\n",
      "---------------------------\n",
      "['Introduction.ipynb', 'newfile.log', '.DS_Store', 'Packages.ipynb', '.ipynb_checkpoints', 'script.py', 'Assets']\n",
      "---------------------------\n",
      "Assets\n",
      "Introduction.ipynb\n",
      "Packages.ipynb\n",
      "newfile.log\n",
      "script.py\n",
      "\n",
      "---------------------------\n"
     ]
    }
   ],
   "source": [
    "import os \n",
    "print(os.name)\n",
    "print(\"---------------------------\")\n",
    "\n",
    "print(os.getcwd())\n",
    "print(\"---------------------------\")\n",
    "\n",
    "print(os.path.abspath('.'))\n",
    "print(\"---------------------------\")\n",
    "\n",
    "print(os.listdir('.'))\n",
    "print(\"---------------------------\")\n",
    "\n",
    "stream = os.popen('ls')\n",
    "print(stream.read())\n",
    "print(\"---------------------------\")"
   ]
  },
  {
   "cell_type": "code",
   "execution_count": 29,
   "metadata": {
    "slideshow": {
     "slide_type": "subslide"
    }
   },
   "outputs": [
    {
     "name": "stdout",
     "output_type": "stream",
     "text": [
      "56591\n",
      "---------------------------\n",
      "/Users/kagarwa9\n",
      "kagarwa9\n",
      "None\n",
      "---------------------------\n"
     ]
    }
   ],
   "source": [
    "print(os.path.getsize('Assets/vscode_logo.png')) # Size in Bytes\n",
    "\n",
    "print(\"---------------------------\")\n",
    "\n",
    "print(os.environ.get('HOME'))\n",
    "print(os.environ.get('USER'))\n",
    "print(os.environ.get('BANANA'))\n",
    "\n",
    "print(\"---------------------------\")"
   ]
  },
  {
   "cell_type": "code",
   "execution_count": 30,
   "metadata": {
    "slideshow": {
     "slide_type": "subslide"
    }
   },
   "outputs": [
    {
     "name": "stdout",
     "output_type": "stream",
     "text": [
      "TERM_PROGRAM: vscode\n",
      "SPARK_HOME: /opt/spark\n",
      "TERM: xterm-color\n",
      "SHELL: /bin/bash\n",
      "TMPDIR: /var/folders/qj/tlds6b2926sbggsl7j231hrry7_dq4/T/\n",
      "Apple_PubSub_Socket_Render: /private/tmp/com.apple.launchd.jU6sptZUhK/Render\n",
      "TERM_PROGRAM_VERSION: 1.31.1\n",
      "USER: kagarwa9\n",
      "COMMAND_MODE: unix2003\n",
      "SSH_AUTH_SOCK: /private/tmp/com.apple.launchd.0usMLhD3GC/Listeners\n",
      "__CF_USER_TEXT_ENCODING: 0x3C7536E4:0x0:0x0\n",
      "VIRTUAL_ENV: /Users/kagarwa9/Documents/GitHub/Jobs_Orchestration/venv\n",
      "PATH: /Users/kagarwa9/Documents/GitHub/Jobs_Orchestration/venv/bin:/Library/Frameworks/Python.framework/Versions/3.6/bin:/Library/Frameworks/Python.framework/Versions/3.6/bin:/usr/local/bin:/usr/bin:/bin:/usr/sbin:/sbin:/Library/Frameworks/Python.framework/Versions/3.6/bin:/opt/spark/bin:/opt/spark/bin\n",
      "PWD: /Users/kagarwa9/Documents/GitHub/Python-Workshop\n",
      "LANG: en_GB.UTF-8\n",
      "XPC_FLAGS: 0x0\n",
      "PS1: (venv) \\h:\\W \\u\\$ \n",
      "XPC_SERVICE_NAME: 0\n",
      "SHLVL: 2\n",
      "HOME: /Users/kagarwa9\n",
      "LOGNAME: kagarwa9\n",
      "CLASSPATH: .:/usr/local/lib/antlr-4.7.1-complete.jar:.:/usr/local/lib/antlr-4.7.1-complete.jar:\n",
      "SECURITYSESSIONID: 186ad\n",
      "_: /Users/kagarwa9/Documents/GitHub/Jobs_Orchestration/venv/bin/jupyter\n",
      "KERNEL_LAUNCH_TIMEOUT: 40\n",
      "JPY_PARENT_PID: 2486\n",
      "CLICOLOR: 1\n",
      "PAGER: cat\n",
      "GIT_PAGER: cat\n",
      "MPLBACKEND: module://ipykernel.pylab.backend_inline\n"
     ]
    }
   ],
   "source": [
    "for item, value in os.environ.items():\n",
    "    print('{}: {}'.format(item, value))"
   ]
  },
  {
   "cell_type": "markdown",
   "metadata": {
    "slideshow": {
     "slide_type": "subslide"
    }
   },
   "source": [
    "### Read more about OS library: https://docs.python.org/3.6/library/os.html"
   ]
  },
  {
   "cell_type": "markdown",
   "metadata": {
    "slideshow": {
     "slide_type": "slide"
    }
   },
   "source": [
    "# SYS"
   ]
  },
  {
   "cell_type": "code",
   "execution_count": 31,
   "metadata": {
    "slideshow": {
     "slide_type": "subslide"
    }
   },
   "outputs": [
    {
     "name": "stdout",
     "output_type": "stream",
     "text": [
      "3.6.5 (v3.6.5:f59c0932b4, Mar 28 2018, 03:03:55) \n",
      "[GCC 4.2.1 (Apple Inc. build 5666) (dot 3)]\n",
      "---------------------------\n",
      "['/Users/kagarwa9/Documents/GitHub/Jobs_Orchestration/venv/lib/python36.zip', '/Users/kagarwa9/Documents/GitHub/Jobs_Orchestration/venv/lib/python3.6', '/Users/kagarwa9/Documents/GitHub/Jobs_Orchestration/venv/lib/python3.6/lib-dynload', '/Library/Frameworks/Python.framework/Versions/3.6/lib/python3.6', '', '/Users/kagarwa9/Documents/GitHub/Jobs_Orchestration/venv/lib/python3.6/site-packages', '/Users/kagarwa9/Documents/GitHub/Jobs_Orchestration/venv/lib/python3.6/site-packages/IPython/extensions', '/Users/kagarwa9/.ipython']\n",
      "---------------------------\n",
      "darwin\n",
      "---------------------------\n",
      "72 23\n",
      "---------------------------\n",
      "275287\n"
     ]
    }
   ],
   "source": [
    "import sys\n",
    "print(sys.version)\n",
    "print(\"---------------------------\")\n",
    "\n",
    "print(sys.path)\n",
    "print(\"---------------------------\")\n",
    "\n",
    "print(sys.platform)\n",
    "print(\"---------------------------\")\n",
    "\n",
    "a = \"Memes are in the air...\"\n",
    "print(sys.getsizeof(a), len(a))\n",
    "print(\"---------------------------\")\n",
    "\n",
    "print(sys.getallocatedblocks())"
   ]
  },
  {
   "cell_type": "markdown",
   "metadata": {
    "slideshow": {
     "slide_type": "subslide"
    }
   },
   "source": [
    "### Read more about SYS library: https://docs.python.org/3.6/library/sys.html"
   ]
  },
  {
   "cell_type": "markdown",
   "metadata": {
    "slideshow": {
     "slide_type": "slide"
    }
   },
   "source": [
    "# Logging\n",
    "\n",
    "<img src=\"Assets/logs.jpeg\" height=500 width=1000>"
   ]
  },
  {
   "cell_type": "code",
   "execution_count": 32,
   "metadata": {
    "slideshow": {
     "slide_type": "subslide"
    }
   },
   "outputs": [],
   "source": [
    "import logging\n",
    "#Create and configure logger \n",
    "logging.basicConfig(filename=\"newfile.log\",\n",
    "                    format='%(levelname)s : %(asctime)s %(message)s', \n",
    "                    filemode='w') \n",
    "  \n",
    "#Creating an object \n",
    "logger=logging.getLogger() \n",
    "  \n",
    "#Setting the threshold of logger to DEBUG \n",
    "logger.setLevel(logging.DEBUG) \n",
    "#Test messages \n",
    "logger.debug(\"Harmless debug Message\") \n",
    "logger.info(\"Just an information\") \n",
    "logger.warning(\"Its a Warning\") \n",
    "logger.error(\"Did you try to divide by zero\") \n",
    "logger.critical(\"Internet is down\") "
   ]
  },
  {
   "cell_type": "markdown",
   "metadata": {
    "slideshow": {
     "slide_type": "subslide"
    }
   },
   "source": [
    "# Like a Boss\n",
    "<img src=\"Assets/logging.jpg\" height=500 width=1000>"
   ]
  },
  {
   "cell_type": "markdown",
   "metadata": {
    "slideshow": {
     "slide_type": "subslide"
    }
   },
   "source": [
    "### Read more about Logging: https://www.machinelearningplus.com/python/python-logging-guide/"
   ]
  },
  {
   "cell_type": "markdown",
   "metadata": {
    "slideshow": {
     "slide_type": "slide"
    }
   },
   "source": [
    "# JSON\n",
    "<img src=\"Assets/json_everywhere.jpg\" height=500 width=1000>"
   ]
  },
  {
   "cell_type": "code",
   "execution_count": 33,
   "metadata": {
    "slideshow": {
     "slide_type": "subslide"
    }
   },
   "outputs": [
    {
     "name": "stdout",
     "output_type": "stream",
     "text": [
      "Python <class 'dict'>\n",
      "{\"name\": \"JavaScript\", \"age\": \"1996\", \"creater\": \"Brendan Eich\"} <class 'str'>\n"
     ]
    }
   ],
   "source": [
    "import json\n",
    "\n",
    "str_var =  '{ \"name\":\"Python\", \"since\":1991, \"creater\":\"Guido Van Rossum\"}'\n",
    "json_var = {\n",
    "    \"name\": \"JavaScript\",\n",
    "    \"age\": \"1996\",\n",
    "    \"creater\": \"Brendan Eich\"\n",
    "}\n",
    "\n",
    "json_new_var = json.loads(str_var)\n",
    "str_new_var = json.dumps(json_var)\n",
    "\n",
    "print(json_new_var[\"name\"], type(json_new_var)) # String to JSON\n",
    "print(str_new_var, type(str_new_var)) # JSON to String"
   ]
  },
  {
   "cell_type": "code",
   "execution_count": 34,
   "metadata": {
    "slideshow": {
     "slide_type": "subslide"
    }
   },
   "outputs": [
    {
     "name": "stdout",
     "output_type": "stream",
     "text": [
      "{\n",
      "    \"age\": \"1996\",\n",
      "    \"creater\": \"Brendan Eich\",\n",
      "    \"name\": \"JavaScript\"\n",
      "}\n"
     ]
    }
   ],
   "source": [
    "print(json.dumps(json_var, indent=4, sort_keys=True))"
   ]
  },
  {
   "cell_type": "markdown",
   "metadata": {
    "slideshow": {
     "slide_type": "subslide"
    }
   },
   "source": [
    "# And that's all you'd generally need to know about it..."
   ]
  },
  {
   "cell_type": "markdown",
   "metadata": {},
   "source": [
    "You are the chief devops engineer of OGS. A war room has been created, turns out that some junk files have been going into the upstream you are responsible for which may lead to corruption of member data. You have been given a folder that has these .dat files. Iterate over them and extract the MD5 key of the file from its name and using the predefined function find out if the file is a success or failure. Hope you dont dissapoint the Python geeks. :P"
   ]
  }
 ],
 "metadata": {
  "celltoolbar": "Slideshow",
  "kernelspec": {
   "display_name": "Python 3",
   "language": "python",
   "name": "python3"
  },
  "language_info": {
   "codemirror_mode": {
    "name": "ipython",
    "version": 3
   },
   "file_extension": ".py",
   "mimetype": "text/x-python",
   "name": "python",
   "nbconvert_exporter": "python",
   "pygments_lexer": "ipython3",
   "version": "3.6.5"
  }
 },
 "nbformat": 4,
 "nbformat_minor": 2
}
