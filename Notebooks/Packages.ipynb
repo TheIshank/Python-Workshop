{
 "cells": [
  {
   "cell_type": "markdown",
   "metadata": {
    "slideshow": {
     "slide_type": "slide"
    }
   },
   "source": [
    "# Remember?\n",
    "\n",
    "Vanilla Python\n",
    "<img src=\"Assets/charmander.jpg\" height=300 width=300>\n",
    "\n",
    "Python with packages\n",
    "<img src=\"Assets/Charizard.png\" height=500>"
   ]
  },
  {
   "cell_type": "markdown",
   "metadata": {
    "slideshow": {
     "slide_type": "slide"
    }
   },
   "source": [
    "# So let's get started"
   ]
  },
  {
   "cell_type": "markdown",
   "metadata": {
    "slideshow": {
     "slide_type": "slide"
    }
   },
   "source": [
    "# But wait,\n",
    "\n",
    "<img src=\"Assets/same_page.png\" height=500 width=1000>"
   ]
  },
  {
   "cell_type": "markdown",
   "metadata": {
    "slideshow": {
     "slide_type": "slide"
    }
   },
   "source": [
    "# OS"
   ]
  },
  {
   "cell_type": "code",
   "execution_count": null,
   "metadata": {},
   "outputs": [],
   "source": [
    "import os \n",
    "print(os.name)\n",
    "print(\"---------------------------\")\n",
    "\n",
    "print(os.getcwd())\n",
    "print(\"---------------------------\")\n",
    "\n",
    "print(os.path.abspath('.'))\n",
    "print(\"---------------------------\")\n",
    "\n",
    "print(os.listdir('.'))\n",
    "print(\"---------------------------\")\n",
    "\n",
    "stream = os.popen('ls')\n",
    "print(stream.read())\n",
    "print(\"---------------------------\")"
   ]
  },
  {
   "cell_type": "code",
   "execution_count": null,
   "metadata": {
    "slideshow": {
     "slide_type": "subslide"
    }
   },
   "outputs": [],
   "source": [
    "print(os.path.getsize('Assets/vscode_logo.png')) # Size in Bytes\n",
    "\n",
    "print(\"---------------------------\")\n",
    "\n",
    "print(os.environ.get('HOME'))\n",
    "print(os.environ.get('USER'))\n",
    "print(os.environ.get('BANANA'))\n",
    "\n",
    "print(\"---------------------------\")"
   ]
  },
  {
   "cell_type": "code",
   "execution_count": null,
   "metadata": {
    "slideshow": {
     "slide_type": "subslide"
    }
   },
   "outputs": [],
   "source": [
    "for item, value in os.environ.items():\n",
    "    print('{}: {}'.format(item, value))"
   ]
  },
  {
   "cell_type": "markdown",
   "metadata": {
    "slideshow": {
     "slide_type": "subslide"
    }
   },
   "source": [
    "### Read more about OS library: https://docs.python.org/3.6/library/os.html"
   ]
  },
  {
   "cell_type": "markdown",
   "metadata": {
    "slideshow": {
     "slide_type": "slide"
    }
   },
   "source": [
    "# SYS"
   ]
  },
  {
   "cell_type": "code",
   "execution_count": null,
   "metadata": {
    "slideshow": {
     "slide_type": "subslide"
    }
   },
   "outputs": [],
   "source": [
    "import sys\n",
    "print(sys.version)\n",
    "print(\"---------------------------\")\n",
    "\n",
    "print(sys.path)\n",
    "print(\"---------------------------\")\n",
    "\n",
    "print(sys.platform)\n",
    "print(\"---------------------------\")\n",
    "\n",
    "a = \"Memes are in the air...\"\n",
    "print(sys.getsizeof(a), len(a))\n",
    "print(\"---------------------------\")\n",
    "\n",
    "print(sys.getallocatedblocks())"
   ]
  },
  {
   "cell_type": "markdown",
   "metadata": {
    "slideshow": {
     "slide_type": "subslide"
    }
   },
   "source": [
    "### Read more about SYS library: https://docs.python.org/3.6/library/sys.html"
   ]
  },
  {
   "cell_type": "markdown",
   "metadata": {
    "slideshow": {
     "slide_type": "slide"
    }
   },
   "source": [
    "# Logging\n",
    "\n",
    "<img src=\"Assets/logs.jpeg\" height=500 width=1000>"
   ]
  },
  {
   "cell_type": "code",
   "execution_count": null,
   "metadata": {
    "slideshow": {
     "slide_type": "subslide"
    }
   },
   "outputs": [],
   "source": [
    "import logging\n",
    "#Create and configure logger \n",
    "logging.basicConfig(filename=\"newfile.log\",\n",
    "                    format='%(levelname)s : %(asctime)s %(message)s', \n",
    "                    filemode='w') \n",
    "  \n",
    "#Creating an object \n",
    "logger=logging.getLogger() \n",
    "  \n",
    "#Setting the threshold of logger to DEBUG \n",
    "logger.setLevel(logging.DEBUG) \n",
    "#Test messages \n",
    "logger.debug(\"Harmless debug Message\") \n",
    "logger.info(\"Just an information\") \n",
    "logger.warning(\"Its a Warning\") \n",
    "logger.error(\"Did you try to divide by zero\") \n",
    "logger.critical(\"Internet is down\") "
   ]
  },
  {
   "cell_type": "markdown",
   "metadata": {
    "slideshow": {
     "slide_type": "subslide"
    }
   },
   "source": [
    "# Like a Boss\n",
    "<img src=\"Assets/logging.jpg\" height=500 width=1000>"
   ]
  },
  {
   "cell_type": "markdown",
   "metadata": {
    "slideshow": {
     "slide_type": "subslide"
    }
   },
   "source": [
    "### Read more about Logging: https://www.machinelearningplus.com/python/python-logging-guide/"
   ]
  },
  {
   "cell_type": "markdown",
   "metadata": {
    "slideshow": {
     "slide_type": "slide"
    }
   },
   "source": [
    "# JSON\n",
    "<img src=\"Assets/json_everywhere.jpg\" height=500 width=1000>"
   ]
  },
  {
   "cell_type": "code",
   "execution_count": null,
   "metadata": {
    "slideshow": {
     "slide_type": "subslide"
    }
   },
   "outputs": [],
   "source": [
    "import json\n",
    "\n",
    "str_var =  '{ \"name\":\"Python\", \"since\":1991, \"creater\":\"Guido Van Rossum\"}'\n",
    "json_var = {\n",
    "    \"name\": \"JavaScript\",\n",
    "    \"age\": \"1996\",\n",
    "    \"creater\": \"Brendan Eich\"\n",
    "}\n",
    "\n",
    "json_new_var = json.loads(str_var)\n",
    "str_new_var = json.dumps(json_var)\n",
    "\n",
    "print(json_new_var[\"name\"], type(json_new_var)) # String to JSON\n",
    "print(str_new_var, type(str_new_var)) # JSON to String"
   ]
  },
  {
   "cell_type": "code",
   "execution_count": null,
   "metadata": {
    "slideshow": {
     "slide_type": "subslide"
    }
   },
   "outputs": [],
   "source": [
    "print(json.dumps(json_var, indent=4, sort_keys=True))"
   ]
  },
  {
   "cell_type": "markdown",
   "metadata": {
    "slideshow": {
     "slide_type": "subslide"
    }
   },
   "source": [
    "# And that's all you'd generally need to know about it..."
   ]
  },
  {
   "cell_type": "markdown",
   "metadata": {
    "slideshow": {
     "slide_type": "slide"
    }
   },
   "source": [
    "You are the chief devops engineer of OGS. A war room has been created, turns out that some junk files have been going into the upstream you are responsible for which may lead to corruption of member data. You have been given a folder that has these .dat files. Iterate over them and extract the MD5 key of the file from its name and using the predefined function find out if the file is a success or failure. Hope you dont dissapoint the Python geeks. :P"
   ]
  },
  {
   "cell_type": "markdown",
   "metadata": {
    "slideshow": {
     "slide_type": "slide"
    }
   },
   "source": [
    "# Date and Time"
   ]
  },
  {
   "cell_type": "code",
   "execution_count": 32,
   "metadata": {
    "slideshow": {
     "slide_type": "subslide"
    }
   },
   "outputs": [
    {
     "name": "stdout",
     "output_type": "stream",
     "text": [
      "2020-02-27 01:01:18.134505 2020 27\n",
      "<class 'datetime.datetime'>\n",
      "02/27/2020, 01:01:18\n"
     ]
    }
   ],
   "source": [
    "import datetime\n",
    "\n",
    "x = datetime.datetime.now()\n",
    "print(x, x.year, x.day)\n",
    "print(type(x))\n",
    "print(x.strftime(\"%m/%d/%Y, %H:%M:%S\"))"
   ]
  },
  {
   "cell_type": "markdown",
   "metadata": {
    "slideshow": {
     "slide_type": "subslide"
    }
   },
   "source": [
    "<img src=\"Assets/datetime.png\" height=500 width=500>"
   ]
  },
  {
   "cell_type": "code",
   "execution_count": 45,
   "metadata": {
    "slideshow": {
     "slide_type": "subslide"
    }
   },
   "outputs": [
    {
     "name": "stdout",
     "output_type": "stream",
     "text": [
      "May\n"
     ]
    }
   ],
   "source": [
    "import datetime\n",
    "x = datetime.datetime(2020, 5, 17)\n",
    "print(x.strftime(\"%B\"))"
   ]
  },
  {
   "cell_type": "code",
   "execution_count": 34,
   "metadata": {
    "slideshow": {
     "slide_type": "subslide"
    }
   },
   "outputs": [
    {
     "name": "stdout",
     "output_type": "stream",
     "text": [
      "2005-06-01 13:33:00\n",
      "2018-09-19 13:55:26\n"
     ]
    }
   ],
   "source": [
    "from datetime import datetime\n",
    "\n",
    "datetime_object = datetime.strptime('Jun 1 2005 1:33PM', '%b %d %Y %I:%M%p')\n",
    "print(datetime_object)\n",
    "\n",
    "datetime_object = datetime.strptime('09/19/18 13:55:26', '%m/%d/%y %H:%M:%S')\n",
    "print(datetime_object)"
   ]
  },
  {
   "cell_type": "code",
   "execution_count": 35,
   "metadata": {
    "slideshow": {
     "slide_type": "subslide"
    }
   },
   "outputs": [
    {
     "name": "stdout",
     "output_type": "stream",
     "text": [
      "2020-02-27\n",
      "2020-02-27 01:01:19.444628\n"
     ]
    }
   ],
   "source": [
    "from datetime import date\n",
    "print(date.today())\n",
    "\n",
    "from datetime import datetime\n",
    "print(datetime.now())"
   ]
  },
  {
   "cell_type": "code",
   "execution_count": 36,
   "metadata": {
    "slideshow": {
     "slide_type": "subslide"
    }
   },
   "outputs": [
    {
     "data": {
      "text/plain": [
       "datetime.timedelta(days=100)"
      ]
     },
     "execution_count": 36,
     "metadata": {},
     "output_type": "execute_result"
    }
   ],
   "source": [
    "from datetime import timedelta\n",
    "d = timedelta(days=100)\n",
    "d"
   ]
  },
  {
   "cell_type": "code",
   "execution_count": 56,
   "metadata": {
    "slideshow": {
     "slide_type": "subslide"
    }
   },
   "outputs": [
    {
     "name": "stdout",
     "output_type": "stream",
     "text": [
      "-100 days, 3:22:08\n"
     ]
    },
    {
     "data": {
      "text/plain": [
       "datetime.datetime(2020, 2, 7, 3, 22, 8)"
      ]
     },
     "execution_count": 56,
     "metadata": {},
     "output_type": "execute_result"
    }
   ],
   "source": [
    "import datetime\n",
    "from datetime import timedelta\n",
    "d = timedelta(days=-100, hours=5, minutes=-98, seconds=8)\n",
    "print(d)\n",
    "x = datetime.datetime(2020, 5, 17)\n",
    "y = x + d\n",
    "y "
   ]
  },
  {
   "cell_type": "markdown",
   "metadata": {
    "slideshow": {
     "slide_type": "slide"
    }
   },
   "source": [
    "# Requests"
   ]
  },
  {
   "cell_type": "code",
   "execution_count": 82,
   "metadata": {
    "slideshow": {
     "slide_type": "subslide"
    }
   },
   "outputs": [
    {
     "name": "stdout",
     "output_type": "stream",
     "text": [
      "200 ascii\n"
     ]
    }
   ],
   "source": [
    "import requests\n",
    "from pprint import pprint\n",
    "r = requests.get('https://api.github.com/repos/psf/requests')\n",
    "print(r.status_code, r.apparent_encoding)\n",
    "json_data = r.json()"
   ]
  },
  {
   "cell_type": "code",
   "execution_count": 98,
   "metadata": {
    "slideshow": {
     "slide_type": "subslide"
    }
   },
   "outputs": [
    {
     "data": {
      "text/plain": [
       "{'total_count': 1,\n",
       " 'incomplete_results': False,\n",
       " 'items': [{'login': 'KriAga',\n",
       "   'id': 20995709,\n",
       "   'node_id': 'MDQ6VXNlcjIwOTk1NzA5',\n",
       "   'avatar_url': 'https://avatars1.githubusercontent.com/u/20995709?v=4',\n",
       "   'gravatar_id': '',\n",
       "   'url': 'https://api.github.com/users/KriAga',\n",
       "   'html_url': 'https://github.com/KriAga',\n",
       "   'followers_url': 'https://api.github.com/users/KriAga/followers',\n",
       "   'following_url': 'https://api.github.com/users/KriAga/following{/other_user}',\n",
       "   'gists_url': 'https://api.github.com/users/KriAga/gists{/gist_id}',\n",
       "   'starred_url': 'https://api.github.com/users/KriAga/starred{/owner}{/repo}',\n",
       "   'subscriptions_url': 'https://api.github.com/users/KriAga/subscriptions',\n",
       "   'organizations_url': 'https://api.github.com/users/KriAga/orgs',\n",
       "   'repos_url': 'https://api.github.com/users/KriAga/repos',\n",
       "   'events_url': 'https://api.github.com/users/KriAga/events{/privacy}',\n",
       "   'received_events_url': 'https://api.github.com/users/KriAga/received_events',\n",
       "   'type': 'User',\n",
       "   'site_admin': False,\n",
       "   'score': 1.0}]}"
      ]
     },
     "execution_count": 98,
     "metadata": {},
     "output_type": "execute_result"
    }
   ],
   "source": [
    "response = requests.get(\n",
    "    'https://api.github.com/search/users',\n",
    "    params={'q': 'kriaga', 'followers': '>27', 'stars': '<23', 'following': '<26'},\n",
    ")\n",
    "json_response = response.json()\n",
    "json_response"
   ]
  },
  {
   "cell_type": "code",
   "execution_count": 89,
   "metadata": {
    "slideshow": {
     "slide_type": "subslide"
    }
   },
   "outputs": [
    {
     "name": "stdout",
     "output_type": "stream",
     "text": [
      "{\n",
      "  \"args\": {}, \n",
      "  \"data\": \"\", \n",
      "  \"files\": {}, \n",
      "  \"form\": {\n",
      "    \"password\": \"123\", \n",
      "    \"username\": \"krishna\"\n",
      "  }, \n",
      "  \"headers\": {\n",
      "    \"Accept\": \"*/*\", \n",
      "    \"Accept-Encoding\": \"gzip, deflate\", \n",
      "    \"Content-Length\": \"29\", \n",
      "    \"Content-Type\": \"application/x-www-form-urlencoded\", \n",
      "    \"Host\": \"httpbin.org\", \n",
      "    \"User-Agent\": \"python-requests/2.23.0\", \n",
      "    \"X-Amzn-Trace-Id\": \"Root=1-5e56cfff-5a872520fd246fbc32ee2f6c\"\n",
      "  }, \n",
      "  \"json\": null, \n",
      "  \"origin\": \"183.83.36.157\", \n",
      "  \"url\": \"https://httpbin.org/post\"\n",
      "}\n",
      "\n"
     ]
    }
   ],
   "source": [
    "import requests\n",
    "pload = {'username':'krishna','password':'123'}\n",
    "r = requests.post('https://httpbin.org/post',data = pload)\n",
    "print(r.text)"
   ]
  },
  {
   "cell_type": "code",
   "execution_count": 99,
   "metadata": {},
   "outputs": [],
   "source": [
    "import antigravity"
   ]
  },
  {
   "cell_type": "code",
   "execution_count": null,
   "metadata": {},
   "outputs": [],
   "source": []
  }
 ],
 "metadata": {
  "celltoolbar": "Slideshow",
  "kernelspec": {
   "display_name": "Python 3",
   "language": "python",
   "name": "python3"
  },
  "language_info": {
   "codemirror_mode": {
    "name": "ipython",
    "version": 3
   },
   "file_extension": ".py",
   "mimetype": "text/x-python",
   "name": "python",
   "nbconvert_exporter": "python",
   "pygments_lexer": "ipython3",
   "version": "3.7.5"
  }
 },
 "nbformat": 4,
 "nbformat_minor": 2
}
